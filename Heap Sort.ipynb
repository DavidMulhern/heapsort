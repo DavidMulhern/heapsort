{
 "cells": [
  {
   "cell_type": "markdown",
   "id": "c19e40b8",
   "metadata": {},
   "source": [
    "# Heap Sort"
   ]
  },
  {
   "cell_type": "markdown",
   "id": "d6c67949",
   "metadata": {},
   "source": [
    "## Lists in Python "
   ]
  },
  {
   "cell_type": "code",
   "execution_count": 1,
   "id": "d3d90c73",
   "metadata": {},
   "outputs": [],
   "source": [
    "# Lists in python don't need to be of one type\n",
    "L = [1,2,3, \"Hello\", None, True]"
   ]
  },
  {
   "cell_type": "code",
   "execution_count": 2,
   "id": "f46b64d2",
   "metadata": {},
   "outputs": [
    {
     "data": {
      "text/plain": [
       "[1, 2, 3, 'Hello', None, True]"
      ]
     },
     "execution_count": 2,
     "metadata": {},
     "output_type": "execute_result"
    }
   ],
   "source": [
    "L"
   ]
  },
  {
   "cell_type": "code",
   "execution_count": 3,
   "id": "fef66ce4",
   "metadata": {},
   "outputs": [
    {
     "data": {
      "text/plain": [
       "'Hello'"
      ]
     },
     "execution_count": 3,
     "metadata": {},
     "output_type": "execute_result"
    }
   ],
   "source": [
    "L[3]"
   ]
  },
  {
   "cell_type": "code",
   "execution_count": 4,
   "id": "ffa9350e",
   "metadata": {},
   "outputs": [
    {
     "data": {
      "text/plain": [
       "[1, 2, 3, 4, 5]"
      ]
     },
     "execution_count": 4,
     "metadata": {},
     "output_type": "execute_result"
    }
   ],
   "source": [
    "# You can create lists with the list() function. {} = set, which is unique values\n",
    "list({1,2,3,4,5,3,3,3,3,3,3})"
   ]
  },
  {
   "cell_type": "code",
   "execution_count": 5,
   "id": "11608215",
   "metadata": {},
   "outputs": [
    {
     "data": {
      "text/plain": [
       "True"
      ]
     },
     "execution_count": 5,
     "metadata": {},
     "output_type": "execute_result"
    }
   ],
   "source": [
    "# Use negative indexes. Work the list right to left\n",
    "L[-1]"
   ]
  },
  {
   "cell_type": "code",
   "execution_count": 6,
   "id": "4705f2d8",
   "metadata": {},
   "outputs": [
    {
     "data": {
      "text/plain": [
       "[0, 2, 4, 6, 8, 10, 12, 14, 16, 18]"
      ]
     },
     "execution_count": 6,
     "metadata": {},
     "output_type": "execute_result"
    }
   ],
   "source": [
    "# in-built functions for creating iterables.\n",
    "# (Start, upTo/not incl, increments)\n",
    "list(range(0, 20, 2))"
   ]
  },
  {
   "cell_type": "code",
   "execution_count": 7,
   "id": "d8436e2c",
   "metadata": {},
   "outputs": [
    {
     "data": {
      "text/plain": [
       "[0, 1, 2, 3, 4, 5, 6, 7, 8, 9, 10, 11, 12, 13, 14, 15, 16, 17, 18, 19]"
      ]
     },
     "execution_count": 7,
     "metadata": {},
     "output_type": "execute_result"
    }
   ],
   "source": [
    "# (upTo/not incl)\n",
    "list(range(20))"
   ]
  },
  {
   "cell_type": "code",
   "execution_count": 8,
   "id": "35e46f22",
   "metadata": {},
   "outputs": [
    {
     "data": {
      "text/plain": [
       "[0, 1, 2, 3, 4, 5, 6, 7, 8, 9, 10, 11, 12, 13, 14, 15, 16, 17, 18, 19]"
      ]
     },
     "execution_count": 8,
     "metadata": {},
     "output_type": "execute_result"
    }
   ],
   "source": [
    "L = list(range(20))\n",
    "L"
   ]
  },
  {
   "cell_type": "code",
   "execution_count": 9,
   "id": "3dc97df3",
   "metadata": {},
   "outputs": [
    {
     "data": {
      "text/plain": [
       "[1, 3, 5, 7, 9]"
      ]
     },
     "execution_count": 9,
     "metadata": {},
     "output_type": "execute_result"
    }
   ],
   "source": [
    "# List slicing \n",
    "# [Start, upTo/not incl, increments]\n",
    "L[1:10:2]"
   ]
  },
  {
   "cell_type": "code",
   "execution_count": 10,
   "id": "9cc4378f",
   "metadata": {},
   "outputs": [
    {
     "data": {
      "text/plain": [
       "[5, 6, 7, 8, 9]"
      ]
     },
     "execution_count": 10,
     "metadata": {},
     "output_type": "execute_result"
    }
   ],
   "source": [
    "# List slicing \n",
    "# [Start, upTo/not incl]\n",
    "L[5:10]"
   ]
  },
  {
   "cell_type": "code",
   "execution_count": 11,
   "id": "7bcbe694",
   "metadata": {},
   "outputs": [
    {
     "data": {
      "text/plain": [
       "[5, 6, 7, 8, 9, 10, 11, 12, 13, 14, 15, 16, 17, 18, 19]"
      ]
     },
     "execution_count": 11,
     "metadata": {},
     "output_type": "execute_result"
    }
   ],
   "source": [
    "# List slicing \n",
    "# [Start] - onwards\n",
    "L[5:]"
   ]
  },
  {
   "cell_type": "code",
   "execution_count": 12,
   "id": "433cc7af",
   "metadata": {},
   "outputs": [
    {
     "data": {
      "text/plain": [
       "[0, 1, 2, 3, 4]"
      ]
     },
     "execution_count": 12,
     "metadata": {},
     "output_type": "execute_result"
    }
   ],
   "source": [
    "# List slicing \n",
    "# [:upTo/not incl] \n",
    "L[:5]"
   ]
  },
  {
   "cell_type": "code",
   "execution_count": 13,
   "id": "86bb10ad",
   "metadata": {},
   "outputs": [
    {
     "data": {
      "text/plain": [
       "[1, 2, 3, 4, 5, 6, 7, 8, 9, 10, 11, 12, 13, 14, 15, 16, 17, 18, 19, 0]"
      ]
     },
     "execution_count": 13,
     "metadata": {},
     "output_type": "execute_result"
    }
   ],
   "source": [
    "# Quick way to cycles list to the left\n",
    "# shifting left, zero gets popped to the end\n",
    "L[1:] + L[:1]"
   ]
  },
  {
   "cell_type": "code",
   "execution_count": 14,
   "id": "9a2d15b4",
   "metadata": {},
   "outputs": [],
   "source": [
    "# Tuples. Are immutable\n",
    "# Tuples are created by commas.\n",
    "T = 1,2,3,4"
   ]
  },
  {
   "cell_type": "code",
   "execution_count": 15,
   "id": "3e66b2b4",
   "metadata": {},
   "outputs": [
    {
     "data": {
      "text/plain": [
       "2"
      ]
     },
     "execution_count": 15,
     "metadata": {},
     "output_type": "execute_result"
    }
   ],
   "source": [
    "# You can select elements.\n",
    "T[1]"
   ]
  },
  {
   "cell_type": "code",
   "execution_count": 16,
   "id": "f30d5542",
   "metadata": {},
   "outputs": [
    {
     "data": {
      "text/plain": [
       "(1, 2, 3)"
      ]
     },
     "execution_count": 16,
     "metadata": {},
     "output_type": "execute_result"
    }
   ],
   "source": [
    "# You can slice elements.\n",
    "T[:3]"
   ]
  },
  {
   "cell_type": "code",
   "execution_count": 17,
   "id": "fbdf0e17",
   "metadata": {},
   "outputs": [],
   "source": [
    "# Altering would give an error\n",
    "# T[2] = 100"
   ]
  },
  {
   "cell_type": "code",
   "execution_count": 18,
   "id": "7a0cbaf5",
   "metadata": {},
   "outputs": [],
   "source": [
    "# You can use tuples for assingment\n",
    "a, b = 3, 4"
   ]
  },
  {
   "cell_type": "code",
   "execution_count": 19,
   "id": "c8a965b7",
   "metadata": {},
   "outputs": [
    {
     "data": {
      "text/plain": [
       "3"
      ]
     },
     "execution_count": 19,
     "metadata": {},
     "output_type": "execute_result"
    }
   ],
   "source": [
    "a"
   ]
  },
  {
   "cell_type": "code",
   "execution_count": 20,
   "id": "91c0fdd2",
   "metadata": {},
   "outputs": [
    {
     "data": {
      "text/plain": [
       "4"
      ]
     },
     "execution_count": 20,
     "metadata": {},
     "output_type": "execute_result"
    }
   ],
   "source": [
    "b"
   ]
  },
  {
   "cell_type": "code",
   "execution_count": 21,
   "id": "0ea1fc9f",
   "metadata": {},
   "outputs": [
    {
     "data": {
      "text/plain": [
       "[0, 1, 2, 3, 4, 5, 6, 7, 8, 9]"
      ]
     },
     "execution_count": 21,
     "metadata": {},
     "output_type": "execute_result"
    }
   ],
   "source": [
    "# List comprehension\n",
    "L = list(range(10))\n",
    "L"
   ]
  },
  {
   "cell_type": "code",
   "execution_count": 22,
   "id": "e67b368c",
   "metadata": {},
   "outputs": [
    {
     "data": {
      "text/plain": [
       "[0, 1, 4, 9, 16, 25, 36, 49, 64, 81]"
      ]
     },
     "execution_count": 22,
     "metadata": {},
     "output_type": "execute_result"
    }
   ],
   "source": [
    "# List comprehension - Changing one list to another list \n",
    "# [square the ith value and list L] - mini inside loop, handy!\n",
    "[i**2 for i in L]"
   ]
  },
  {
   "cell_type": "code",
   "execution_count": 23,
   "id": "6dc09962",
   "metadata": {},
   "outputs": [
    {
     "data": {
      "text/plain": [
       "[0, 8, 64, 216, 512]"
      ]
     },
     "execution_count": 23,
     "metadata": {},
     "output_type": "execute_result"
    }
   ],
   "source": [
    "# [cube the ith value and list L IF number is even]\n",
    "[i**3 for i in L if i % 2 ==0]"
   ]
  },
  {
   "cell_type": "code",
   "execution_count": 24,
   "id": "dc72ef8b",
   "metadata": {},
   "outputs": [
    {
     "data": {
      "text/plain": [
       "[9, 8, 7, 6, 5, 4, 3, 2, 1, 0]"
      ]
     },
     "execution_count": 24,
     "metadata": {},
     "output_type": "execute_result"
    }
   ],
   "source": [
    "# reverse the list - little trick\n",
    "L[::-1]"
   ]
  },
  {
   "cell_type": "markdown",
   "id": "f1987f68",
   "metadata": {},
   "source": [
    "<br>\n",
    "\n",
    "## Bubble sort\n",
    "\n",
    "***"
   ]
  },
  {
   "cell_type": "code",
   "execution_count": 25,
   "id": "e3085e91",
   "metadata": {},
   "outputs": [],
   "source": [
    "# Importing a module from a standard library\n",
    "import random "
   ]
  },
  {
   "cell_type": "code",
   "execution_count": 26,
   "id": "c9bd4be5",
   "metadata": {},
   "outputs": [
    {
     "data": {
      "text/plain": [
       "[1, 2, 3, 4, 5, 6, 7, 8, 9, 10]"
      ]
     },
     "execution_count": 26,
     "metadata": {},
     "output_type": "execute_result"
    }
   ],
   "source": [
    "# Create a list of ints.\n",
    "L = list(range(1,11))\n",
    "L"
   ]
  },
  {
   "cell_type": "code",
   "execution_count": 27,
   "id": "a76ba661",
   "metadata": {},
   "outputs": [],
   "source": [
    "# Shuffle list\n",
    "random.shuffle(L)"
   ]
  },
  {
   "cell_type": "code",
   "execution_count": 28,
   "id": "cff2fc76",
   "metadata": {},
   "outputs": [
    {
     "data": {
      "text/plain": [
       "[9, 6, 3, 7, 1, 4, 5, 8, 2, 10]"
      ]
     },
     "execution_count": 28,
     "metadata": {},
     "output_type": "execute_result"
    }
   ],
   "source": [
    "# List is shuffled\n",
    "L"
   ]
  },
  {
   "cell_type": "code",
   "execution_count": 29,
   "id": "e82c4200",
   "metadata": {},
   "outputs": [],
   "source": [
    "# Keep track of number of comparisons.\n",
    "no_comparisons = 0\n",
    "\n",
    "# Bubble sort, outer loop ensuring correct amount of iterations.\n",
    "for j in range(len(L) - 1):\n",
    "    # keep track of swaps\n",
    "    swapped = False\n",
    "    # Bubble sort, bubble the next biggest element up the list.\n",
    "    for i in range(len(L) - 1):\n",
    "        # Compare the ith elements with the (i+1)th (side by side).\n",
    "        if L[i] > L[i+1]:\n",
    "            # if so, swap.\n",
    "            # Tuple swap, from above\n",
    "            L[i], L[i+1] = L[i+1], L[i]\n",
    "            # keep track of swap.\n",
    "            swapped = True\n",
    "            # add a copmarison\n",
    "        no_comparisons = no_comparisons + 1\n",
    "    # if no swaps are made, break the loop\n",
    "    # without this, it always iterates 81 times, 9x9, ixj etc\n",
    "    if not swapped:\n",
    "        break"
   ]
  },
  {
   "cell_type": "code",
   "execution_count": 30,
   "id": "80b5f82d",
   "metadata": {},
   "outputs": [
    {
     "data": {
      "text/plain": [
       "[1, 2, 3, 4, 5, 6, 7, 8, 9, 10]"
      ]
     },
     "execution_count": 30,
     "metadata": {},
     "output_type": "execute_result"
    }
   ],
   "source": [
    "# after bubble sort.\n",
    "L"
   ]
  },
  {
   "cell_type": "code",
   "execution_count": 31,
   "id": "2e0704f0",
   "metadata": {},
   "outputs": [
    {
     "data": {
      "text/plain": [
       "72"
      ]
     },
     "execution_count": 31,
     "metadata": {},
     "output_type": "execute_result"
    }
   ],
   "source": [
    "no_comparisons"
   ]
  },
  {
   "cell_type": "code",
   "execution_count": 32,
   "id": "bc844164",
   "metadata": {},
   "outputs": [],
   "source": [
    "# Bubble sort as a function\n",
    "def bubble_sort(L):\n",
    "    # Keep track of number of comparisons.\n",
    "    no_comparisons = 0\n",
    "\n",
    "    # Bubble sort, outer loop ensuring correct amount of iterations.\n",
    "    for j in range(len(L) - 1):\n",
    "        # keep track of swaps\n",
    "        swapped = False\n",
    "        # Bubble sort, bubble the next biggest element up the list.\n",
    "        for i in range(len(L) - 1):\n",
    "            # Compare the ith elements with the (i+1)th (side by side).\n",
    "            if L[i] > L[i+1]:\n",
    "                # if so, swap.\n",
    "                # Tuple swap, from above\n",
    "                L[i], L[i+1] = L[i+1], L[i]\n",
    "                # keep track of swap.\n",
    "                swapped = True\n",
    "                # add a copmarison\n",
    "            no_comparisons = no_comparisons + 1\n",
    "        # if no swaps are made, break the loop\n",
    "        # without this, it always iterates 81 times, 9x9, ixj etc\n",
    "        if not swapped:\n",
    "            break\n",
    "    return no_comparisons"
   ]
  },
  {
   "cell_type": "code",
   "execution_count": 33,
   "id": "808629d1",
   "metadata": {},
   "outputs": [
    {
     "data": {
      "text/plain": [
       "[4, 8, 1, 7, 2, 10, 5, 3, 9, 6]"
      ]
     },
     "execution_count": 33,
     "metadata": {},
     "output_type": "execute_result"
    }
   ],
   "source": [
    "# Create a list of ints.\n",
    "L = list(range(1,11))\n",
    "# Shuffle\n",
    "random.shuffle(L)\n",
    "# Look at it\n",
    "L"
   ]
  },
  {
   "cell_type": "code",
   "execution_count": 34,
   "id": "e9effbb2",
   "metadata": {},
   "outputs": [
    {
     "data": {
      "text/plain": [
       "54"
      ]
     },
     "execution_count": 34,
     "metadata": {},
     "output_type": "execute_result"
    }
   ],
   "source": [
    "# pass list L to the function\n",
    "bubble_sort(L)"
   ]
  },
  {
   "cell_type": "code",
   "execution_count": 35,
   "id": "dfb55ee5",
   "metadata": {},
   "outputs": [
    {
     "data": {
      "text/plain": [
       "[1, 2, 3, 4, 5, 6, 7, 8, 9, 10]"
      ]
     },
     "execution_count": 35,
     "metadata": {},
     "output_type": "execute_result"
    }
   ],
   "source": [
    "L"
   ]
  },
  {
   "cell_type": "code",
   "execution_count": 36,
   "id": "80b96aa8",
   "metadata": {},
   "outputs": [
    {
     "data": {
      "text/plain": [
       "9"
      ]
     },
     "execution_count": 36,
     "metadata": {},
     "output_type": "execute_result"
    }
   ],
   "source": [
    "# Before sort bubble sort is O(n^2)\n",
    "# After sort bubble sort is O(n)\n",
    "bubble_sort(L)"
   ]
  },
  {
   "cell_type": "markdown",
   "id": "fa573043",
   "metadata": {},
   "source": [
    "<br>\n",
    "\n",
    "# Heap Sort\n",
    "\n",
    "***"
   ]
  },
  {
   "cell_type": "code",
   "execution_count": 37,
   "id": "7e10616e",
   "metadata": {},
   "outputs": [],
   "source": [
    "def siftDown(L, parent, end):\n",
    "    \"\"\"L[parent:end+1] should almost be a max heap.\n",
    "       siftDown repairs it so that it is one.\"\"\"\n",
    "    \n",
    "    # Keep track of number of comparisons.\n",
    "    no_comparisons = 0\n",
    "    \n",
    "    # while parent is actually a parent(has at least a left child).\n",
    "    while 2*parent + 1 <= end:\n",
    "        # The index of the left children.\n",
    "        lchild = 2 * parent + 1\n",
    "        rchild = 2 * parent + 2\n",
    "        \n",
    "        # Assume the parent is larger than the children.\n",
    "        swap = parent\n",
    "        \n",
    "        # Is the parent smaller than the left child?\n",
    "        if L[swap] < L[lchild]:\n",
    "            # then swap is set to the index of the left child\n",
    "            swap = lchild\n",
    "            no_comparisons = no_comparisons + 1\n",
    "        # check if right child exists and is smaller than L[swap].\n",
    "        if rchild + 1<= end and L[swap] < L[rchild]:\n",
    "            # Then swap is set to index of right child \n",
    "            swap = rchild\n",
    "            no_comparisons = no_comparisons + 1\n",
    "        # We have a map heap if parent is bigger than the children    \n",
    "        if swap == parent:\n",
    "            break\n",
    "        else:\n",
    "            # Swap the parent with the bigger child.\n",
    "            L[parent], L[swap] = L[swap], L[parent]\n",
    "            # Set parent to bigger chils index.\n",
    "            parent = swap\n",
    "            \n",
    "    # Return number of comparisons\n",
    "    return no_comparisons"
   ]
  },
  {
   "cell_type": "code",
   "execution_count": 38,
   "id": "0382a080",
   "metadata": {},
   "outputs": [],
   "source": [
    "def heapsort(L):\n",
    "    \"\"\"Sorts the list L in place using Heap Sort\"\"\"\n",
    "    \n",
    "    # Keep track of number of comparisons.\n",
    "    no_comparisons = 0\n",
    "    \n",
    "    # Turn L into a max heap.\n",
    "    \n",
    "    # Index of last element on list\n",
    "    lastElement = len(L) - 1\n",
    "    \n",
    "    # Finde the last parent. Get lengeth of list, (length -1) // 2 -  is the last parent. \n",
    "    # CAREFUL length of L is one bigger than the last index. Hence (length -2)\n",
    "    lastParent = (lastElement - 1) // 2\n",
    "    \n",
    "    # Move backwards through the parents. 0 is the root (Start at, down to, increments)\n",
    "    for parent in range(lastParent, -1, -1):\n",
    "        # Sift down.\n",
    "        no_comparisons = no_comparisons + siftDown(L, parent, lastElement)\n",
    "    \n",
    "    # Segregate the list L into two part:\n",
    "    #      1. L[:end] is a max heap\n",
    "    #      2. Each element beyond end is greater than everything before it.\n",
    "    # While there are still elements in the heap. for (start at, down to notIncl, increments)\n",
    "    for end in range(lastElement, 0, -1):\n",
    "        # Move the element at index 0 with the last element.\n",
    "        L[0], L[end] = L[end], L[0]\n",
    "        # Fix the heap. The root is currently out of place.\n",
    "        no_comparisons = no_comparisons + siftDown(L, 0, end - 1)\n",
    "        \n",
    "    # Return number of comparisons.\n",
    "    return no_comparisons"
   ]
  },
  {
   "cell_type": "code",
   "execution_count": 39,
   "id": "1443207f",
   "metadata": {},
   "outputs": [
    {
     "data": {
      "text/plain": [
       "[100, 19, 7, 17, 25, 3, 1, 36, 2]"
      ]
     },
     "execution_count": 39,
     "metadata": {},
     "output_type": "execute_result"
    }
   ],
   "source": [
    "L= [100,19,7,17,25,3,1,36,2]\n",
    "L"
   ]
  },
  {
   "cell_type": "code",
   "execution_count": 40,
   "id": "0685f265",
   "metadata": {},
   "outputs": [
    {
     "data": {
      "text/plain": [
       "13"
      ]
     },
     "execution_count": 40,
     "metadata": {},
     "output_type": "execute_result"
    }
   ],
   "source": [
    "# Show heapsort works.\n",
    "heapsort(L)"
   ]
  },
  {
   "cell_type": "markdown",
   "id": "fdd3b2fc",
   "metadata": {},
   "source": [
    "<br>\n",
    "\n",
    "## Comparing Algorithms\n",
    "\n",
    "***"
   ]
  },
  {
   "cell_type": "code",
   "execution_count": 41,
   "id": "8fc0aca8",
   "metadata": {},
   "outputs": [
    {
     "data": {
      "text/plain": [
       "([1, 3, 2, 7, 17, 19, 25, 100, 36], 18)"
      ]
     },
     "execution_count": 41,
     "metadata": {},
     "output_type": "execute_result"
    }
   ],
   "source": [
    "# Perform heap sort, show number of comparisons\n",
    "no_comparisons = heapsort(L)\n",
    "L, no_comparisons"
   ]
  },
  {
   "cell_type": "code",
   "execution_count": 42,
   "id": "23ac6d3d",
   "metadata": {},
   "outputs": [
    {
     "data": {
      "text/plain": [
       "([1, 2, 3, 7, 17, 19, 25, 36, 100], 64)"
      ]
     },
     "execution_count": 42,
     "metadata": {},
     "output_type": "execute_result"
    }
   ],
   "source": [
    "# Perform bubble sort, show number of comparisons\n",
    "L= [100,19,7,17,25,3,1,36,2]\n",
    "no_comparisons = bubble_sort(L)\n",
    "L, no_comparisons"
   ]
  },
  {
   "cell_type": "code",
   "execution_count": 43,
   "id": "e833459e",
   "metadata": {},
   "outputs": [
    {
     "name": "stdout",
     "output_type": "stream",
     "text": [
      "(0, 1, 2, 3, 4)\t4\t4\n",
      "(0, 1, 2, 4, 3)\t8\t4\n",
      "(0, 1, 3, 2, 4)\t8\t5\n",
      "(0, 1, 3, 4, 2)\t12\t5\n",
      "(0, 1, 4, 2, 3)\t8\t5\n",
      "(0, 1, 4, 3, 2)\t12\t6\n",
      "(0, 2, 1, 3, 4)\t8\t4\n",
      "(0, 2, 1, 4, 3)\t8\t4\n",
      "(0, 2, 3, 1, 4)\t12\t4\n",
      "(0, 2, 3, 4, 1)\t16\t6\n",
      "(0, 2, 4, 1, 3)\t12\t4\n",
      "(0, 2, 4, 3, 1)\t16\t7\n",
      "(0, 3, 1, 2, 4)\t8\t3\n",
      "(0, 3, 1, 4, 2)\t12\t5\n",
      "(0, 3, 2, 1, 4)\t12\t3\n",
      "(0, 3, 2, 4, 1)\t16\t5\n",
      "(0, 3, 4, 1, 2)\t12\t5\n",
      "(0, 3, 4, 2, 1)\t16\t6\n",
      "(0, 4, 1, 2, 3)\t8\t3\n",
      "(0, 4, 1, 3, 2)\t12\t4\n",
      "(0, 4, 2, 1, 3)\t12\t3\n",
      "(0, 4, 2, 3, 1)\t16\t4\n",
      "(0, 4, 3, 1, 2)\t12\t4\n",
      "(0, 4, 3, 2, 1)\t16\t5\n",
      "(1, 0, 2, 3, 4)\t8\t3\n",
      "(1, 0, 2, 4, 3)\t8\t3\n",
      "(1, 0, 3, 2, 4)\t8\t4\n",
      "(1, 0, 3, 4, 2)\t12\t4\n",
      "(1, 0, 4, 2, 3)\t8\t4\n",
      "(1, 0, 4, 3, 2)\t12\t5\n",
      "(1, 2, 0, 3, 4)\t12\t5\n",
      "(1, 2, 0, 4, 3)\t12\t5\n",
      "(1, 2, 3, 0, 4)\t16\t3\n",
      "(1, 2, 3, 4, 0)\t16\t7\n",
      "(1, 2, 4, 0, 3)\t16\t3\n",
      "(1, 2, 4, 3, 0)\t16\t6\n",
      "(1, 3, 0, 2, 4)\t12\t4\n",
      "(1, 3, 0, 4, 2)\t12\t6\n",
      "(1, 3, 2, 0, 4)\t16\t2\n",
      "(1, 3, 2, 4, 0)\t16\t6\n",
      "(1, 3, 4, 0, 2)\t16\t4\n",
      "(1, 3, 4, 2, 0)\t16\t5\n",
      "(1, 4, 0, 2, 3)\t12\t4\n",
      "(1, 4, 0, 3, 2)\t12\t5\n",
      "(1, 4, 2, 0, 3)\t16\t2\n",
      "(1, 4, 2, 3, 0)\t16\t5\n",
      "(1, 4, 3, 0, 2)\t16\t3\n",
      "(1, 4, 3, 2, 0)\t16\t6\n",
      "(2, 0, 1, 3, 4)\t8\t3\n",
      "(2, 0, 1, 4, 3)\t8\t3\n",
      "(2, 0, 3, 1, 4)\t12\t3\n",
      "(2, 0, 3, 4, 1)\t16\t5\n",
      "(2, 0, 4, 1, 3)\t12\t3\n",
      "(2, 0, 4, 3, 1)\t16\t5\n",
      "(2, 1, 0, 3, 4)\t12\t4\n",
      "(2, 1, 0, 4, 3)\t12\t4\n",
      "(2, 1, 3, 0, 4)\t16\t2\n",
      "(2, 1, 3, 4, 0)\t16\t6\n",
      "(2, 1, 4, 0, 3)\t16\t2\n",
      "(2, 1, 4, 3, 0)\t16\t6\n",
      "(2, 3, 0, 1, 4)\t12\t3\n",
      "(2, 3, 0, 4, 1)\t16\t7\n",
      "(2, 3, 1, 0, 4)\t16\t2\n",
      "(2, 3, 1, 4, 0)\t16\t6\n",
      "(2, 3, 4, 0, 1)\t16\t4\n",
      "(2, 3, 4, 1, 0)\t16\t5\n",
      "(2, 4, 0, 1, 3)\t12\t3\n",
      "(2, 4, 0, 3, 1)\t16\t6\n",
      "(2, 4, 1, 0, 3)\t16\t2\n",
      "(2, 4, 1, 3, 0)\t16\t5\n",
      "(2, 4, 3, 0, 1)\t16\t4\n",
      "(2, 4, 3, 1, 0)\t16\t5\n",
      "(3, 0, 1, 2, 4)\t8\t2\n",
      "(3, 0, 1, 4, 2)\t12\t4\n",
      "(3, 0, 2, 1, 4)\t12\t2\n",
      "(3, 0, 2, 4, 1)\t16\t4\n",
      "(3, 0, 4, 1, 2)\t12\t4\n",
      "(3, 0, 4, 2, 1)\t16\t5\n",
      "(3, 1, 0, 2, 4)\t12\t3\n",
      "(3, 1, 0, 4, 2)\t12\t5\n",
      "(3, 1, 2, 0, 4)\t16\t1\n",
      "(3, 1, 2, 4, 0)\t16\t5\n",
      "(3, 1, 4, 0, 2)\t16\t3\n",
      "(3, 1, 4, 2, 0)\t16\t6\n",
      "(3, 2, 0, 1, 4)\t12\t2\n",
      "(3, 2, 0, 4, 1)\t16\t6\n",
      "(3, 2, 1, 0, 4)\t16\t1\n",
      "(3, 2, 1, 4, 0)\t16\t5\n",
      "(3, 2, 4, 0, 1)\t16\t4\n",
      "(3, 2, 4, 1, 0)\t16\t5\n",
      "(3, 4, 0, 1, 2)\t12\t4\n",
      "(3, 4, 0, 2, 1)\t16\t5\n",
      "(3, 4, 1, 0, 2)\t16\t3\n",
      "(3, 4, 1, 2, 0)\t16\t4\n",
      "(3, 4, 2, 0, 1)\t16\t3\n",
      "(3, 4, 2, 1, 0)\t16\t4\n",
      "(4, 0, 1, 2, 3)\t8\t2\n",
      "(4, 0, 1, 3, 2)\t12\t3\n",
      "(4, 0, 2, 1, 3)\t12\t2\n",
      "(4, 0, 2, 3, 1)\t16\t3\n",
      "(4, 0, 3, 1, 2)\t12\t3\n",
      "(4, 0, 3, 2, 1)\t16\t4\n",
      "(4, 1, 0, 2, 3)\t12\t3\n",
      "(4, 1, 0, 3, 2)\t12\t4\n",
      "(4, 1, 2, 0, 3)\t16\t1\n",
      "(4, 1, 2, 3, 0)\t16\t4\n",
      "(4, 1, 3, 0, 2)\t16\t2\n",
      "(4, 1, 3, 2, 0)\t16\t5\n",
      "(4, 2, 0, 1, 3)\t12\t2\n",
      "(4, 2, 0, 3, 1)\t16\t5\n",
      "(4, 2, 1, 0, 3)\t16\t1\n",
      "(4, 2, 1, 3, 0)\t16\t4\n",
      "(4, 2, 3, 0, 1)\t16\t3\n",
      "(4, 2, 3, 1, 0)\t16\t4\n",
      "(4, 3, 0, 1, 2)\t12\t3\n",
      "(4, 3, 0, 2, 1)\t16\t4\n",
      "(4, 3, 1, 0, 2)\t16\t2\n",
      "(4, 3, 1, 2, 0)\t16\t3\n",
      "(4, 3, 2, 0, 1)\t16\t2\n",
      "(4, 3, 2, 1, 0)\t16\t3\n"
     ]
    }
   ],
   "source": [
    "# A module full of combinatorial functions.\n",
    "import itertools\n",
    "\n",
    "# Length of example list.\n",
    "n = 5\n",
    "\n",
    "# Loop through all permutations of the list of integers from 0 to n.\n",
    "for perm in itertools.permutations(range(5)):\n",
    "    L = list(perm)\n",
    "    bubb_comp = bubble_sort(L)\n",
    "    L = list(perm)\n",
    "    heap_comp = heapsort(L)\n",
    "    print(f'{perm}\\t{bubb_comp}\\t{heap_comp}')"
   ]
  },
  {
   "cell_type": "code",
   "execution_count": 44,
   "id": "6f9b0bdb",
   "metadata": {},
   "outputs": [],
   "source": [
    "# Pandas\n",
    "# Like excel for python\n",
    "import pandas as pd"
   ]
  },
  {
   "cell_type": "code",
   "execution_count": 45,
   "id": "05646bd1",
   "metadata": {},
   "outputs": [],
   "source": [
    "# Length of example list.\n",
    "n = 5\n",
    "\n",
    "results = [[str(perm)[1:-1], bubble_sort(list(perm)), heapsort(list(perm))] for perm in itertools.permutations(range(n))]"
   ]
  },
  {
   "cell_type": "code",
   "execution_count": 46,
   "id": "92ccc678",
   "metadata": {},
   "outputs": [
    {
     "data": {
      "text/plain": [
       "[['0, 1, 2, 3, 4', 4, 4],\n",
       " ['0, 1, 2, 4, 3', 8, 4],\n",
       " ['0, 1, 3, 2, 4', 8, 5],\n",
       " ['0, 1, 3, 4, 2', 12, 5],\n",
       " ['0, 1, 4, 2, 3', 8, 5],\n",
       " ['0, 1, 4, 3, 2', 12, 6],\n",
       " ['0, 2, 1, 3, 4', 8, 4],\n",
       " ['0, 2, 1, 4, 3', 8, 4],\n",
       " ['0, 2, 3, 1, 4', 12, 4],\n",
       " ['0, 2, 3, 4, 1', 16, 6],\n",
       " ['0, 2, 4, 1, 3', 12, 4],\n",
       " ['0, 2, 4, 3, 1', 16, 7],\n",
       " ['0, 3, 1, 2, 4', 8, 3],\n",
       " ['0, 3, 1, 4, 2', 12, 5],\n",
       " ['0, 3, 2, 1, 4', 12, 3],\n",
       " ['0, 3, 2, 4, 1', 16, 5],\n",
       " ['0, 3, 4, 1, 2', 12, 5],\n",
       " ['0, 3, 4, 2, 1', 16, 6],\n",
       " ['0, 4, 1, 2, 3', 8, 3],\n",
       " ['0, 4, 1, 3, 2', 12, 4],\n",
       " ['0, 4, 2, 1, 3', 12, 3],\n",
       " ['0, 4, 2, 3, 1', 16, 4],\n",
       " ['0, 4, 3, 1, 2', 12, 4],\n",
       " ['0, 4, 3, 2, 1', 16, 5],\n",
       " ['1, 0, 2, 3, 4', 8, 3],\n",
       " ['1, 0, 2, 4, 3', 8, 3],\n",
       " ['1, 0, 3, 2, 4', 8, 4],\n",
       " ['1, 0, 3, 4, 2', 12, 4],\n",
       " ['1, 0, 4, 2, 3', 8, 4],\n",
       " ['1, 0, 4, 3, 2', 12, 5],\n",
       " ['1, 2, 0, 3, 4', 12, 5],\n",
       " ['1, 2, 0, 4, 3', 12, 5],\n",
       " ['1, 2, 3, 0, 4', 16, 3],\n",
       " ['1, 2, 3, 4, 0', 16, 7],\n",
       " ['1, 2, 4, 0, 3', 16, 3],\n",
       " ['1, 2, 4, 3, 0', 16, 6],\n",
       " ['1, 3, 0, 2, 4', 12, 4],\n",
       " ['1, 3, 0, 4, 2', 12, 6],\n",
       " ['1, 3, 2, 0, 4', 16, 2],\n",
       " ['1, 3, 2, 4, 0', 16, 6],\n",
       " ['1, 3, 4, 0, 2', 16, 4],\n",
       " ['1, 3, 4, 2, 0', 16, 5],\n",
       " ['1, 4, 0, 2, 3', 12, 4],\n",
       " ['1, 4, 0, 3, 2', 12, 5],\n",
       " ['1, 4, 2, 0, 3', 16, 2],\n",
       " ['1, 4, 2, 3, 0', 16, 5],\n",
       " ['1, 4, 3, 0, 2', 16, 3],\n",
       " ['1, 4, 3, 2, 0', 16, 6],\n",
       " ['2, 0, 1, 3, 4', 8, 3],\n",
       " ['2, 0, 1, 4, 3', 8, 3],\n",
       " ['2, 0, 3, 1, 4', 12, 3],\n",
       " ['2, 0, 3, 4, 1', 16, 5],\n",
       " ['2, 0, 4, 1, 3', 12, 3],\n",
       " ['2, 0, 4, 3, 1', 16, 5],\n",
       " ['2, 1, 0, 3, 4', 12, 4],\n",
       " ['2, 1, 0, 4, 3', 12, 4],\n",
       " ['2, 1, 3, 0, 4', 16, 2],\n",
       " ['2, 1, 3, 4, 0', 16, 6],\n",
       " ['2, 1, 4, 0, 3', 16, 2],\n",
       " ['2, 1, 4, 3, 0', 16, 6],\n",
       " ['2, 3, 0, 1, 4', 12, 3],\n",
       " ['2, 3, 0, 4, 1', 16, 7],\n",
       " ['2, 3, 1, 0, 4', 16, 2],\n",
       " ['2, 3, 1, 4, 0', 16, 6],\n",
       " ['2, 3, 4, 0, 1', 16, 4],\n",
       " ['2, 3, 4, 1, 0', 16, 5],\n",
       " ['2, 4, 0, 1, 3', 12, 3],\n",
       " ['2, 4, 0, 3, 1', 16, 6],\n",
       " ['2, 4, 1, 0, 3', 16, 2],\n",
       " ['2, 4, 1, 3, 0', 16, 5],\n",
       " ['2, 4, 3, 0, 1', 16, 4],\n",
       " ['2, 4, 3, 1, 0', 16, 5],\n",
       " ['3, 0, 1, 2, 4', 8, 2],\n",
       " ['3, 0, 1, 4, 2', 12, 4],\n",
       " ['3, 0, 2, 1, 4', 12, 2],\n",
       " ['3, 0, 2, 4, 1', 16, 4],\n",
       " ['3, 0, 4, 1, 2', 12, 4],\n",
       " ['3, 0, 4, 2, 1', 16, 5],\n",
       " ['3, 1, 0, 2, 4', 12, 3],\n",
       " ['3, 1, 0, 4, 2', 12, 5],\n",
       " ['3, 1, 2, 0, 4', 16, 1],\n",
       " ['3, 1, 2, 4, 0', 16, 5],\n",
       " ['3, 1, 4, 0, 2', 16, 3],\n",
       " ['3, 1, 4, 2, 0', 16, 6],\n",
       " ['3, 2, 0, 1, 4', 12, 2],\n",
       " ['3, 2, 0, 4, 1', 16, 6],\n",
       " ['3, 2, 1, 0, 4', 16, 1],\n",
       " ['3, 2, 1, 4, 0', 16, 5],\n",
       " ['3, 2, 4, 0, 1', 16, 4],\n",
       " ['3, 2, 4, 1, 0', 16, 5],\n",
       " ['3, 4, 0, 1, 2', 12, 4],\n",
       " ['3, 4, 0, 2, 1', 16, 5],\n",
       " ['3, 4, 1, 0, 2', 16, 3],\n",
       " ['3, 4, 1, 2, 0', 16, 4],\n",
       " ['3, 4, 2, 0, 1', 16, 3],\n",
       " ['3, 4, 2, 1, 0', 16, 4],\n",
       " ['4, 0, 1, 2, 3', 8, 2],\n",
       " ['4, 0, 1, 3, 2', 12, 3],\n",
       " ['4, 0, 2, 1, 3', 12, 2],\n",
       " ['4, 0, 2, 3, 1', 16, 3],\n",
       " ['4, 0, 3, 1, 2', 12, 3],\n",
       " ['4, 0, 3, 2, 1', 16, 4],\n",
       " ['4, 1, 0, 2, 3', 12, 3],\n",
       " ['4, 1, 0, 3, 2', 12, 4],\n",
       " ['4, 1, 2, 0, 3', 16, 1],\n",
       " ['4, 1, 2, 3, 0', 16, 4],\n",
       " ['4, 1, 3, 0, 2', 16, 2],\n",
       " ['4, 1, 3, 2, 0', 16, 5],\n",
       " ['4, 2, 0, 1, 3', 12, 2],\n",
       " ['4, 2, 0, 3, 1', 16, 5],\n",
       " ['4, 2, 1, 0, 3', 16, 1],\n",
       " ['4, 2, 1, 3, 0', 16, 4],\n",
       " ['4, 2, 3, 0, 1', 16, 3],\n",
       " ['4, 2, 3, 1, 0', 16, 4],\n",
       " ['4, 3, 0, 1, 2', 12, 3],\n",
       " ['4, 3, 0, 2, 1', 16, 4],\n",
       " ['4, 3, 1, 0, 2', 16, 2],\n",
       " ['4, 3, 1, 2, 0', 16, 3],\n",
       " ['4, 3, 2, 0, 1', 16, 2],\n",
       " ['4, 3, 2, 1, 0', 16, 3]]"
      ]
     },
     "execution_count": 46,
     "metadata": {},
     "output_type": "execute_result"
    }
   ],
   "source": [
    "results"
   ]
  },
  {
   "cell_type": "markdown",
   "id": "cd6800b7",
   "metadata": {},
   "source": [
    "<br>\n",
    "\n",
    "## Using Pandas\n",
    "\n",
    "***"
   ]
  },
  {
   "cell_type": "code",
   "execution_count": 47,
   "id": "fc58fb43",
   "metadata": {},
   "outputs": [],
   "source": [
    "# using pandas\n",
    "df = pd.DataFrame(results, columns=['list', 'bubble', 'heap'])"
   ]
  },
  {
   "cell_type": "code",
   "execution_count": 48,
   "id": "1948c517",
   "metadata": {},
   "outputs": [
    {
     "data": {
      "text/html": [
       "<div>\n",
       "<style scoped>\n",
       "    .dataframe tbody tr th:only-of-type {\n",
       "        vertical-align: middle;\n",
       "    }\n",
       "\n",
       "    .dataframe tbody tr th {\n",
       "        vertical-align: top;\n",
       "    }\n",
       "\n",
       "    .dataframe thead th {\n",
       "        text-align: right;\n",
       "    }\n",
       "</style>\n",
       "<table border=\"1\" class=\"dataframe\">\n",
       "  <thead>\n",
       "    <tr style=\"text-align: right;\">\n",
       "      <th></th>\n",
       "      <th>list</th>\n",
       "      <th>bubble</th>\n",
       "      <th>heap</th>\n",
       "    </tr>\n",
       "  </thead>\n",
       "  <tbody>\n",
       "    <tr>\n",
       "      <th>0</th>\n",
       "      <td>0, 1, 2, 3, 4</td>\n",
       "      <td>4</td>\n",
       "      <td>4</td>\n",
       "    </tr>\n",
       "    <tr>\n",
       "      <th>1</th>\n",
       "      <td>0, 1, 2, 4, 3</td>\n",
       "      <td>8</td>\n",
       "      <td>4</td>\n",
       "    </tr>\n",
       "    <tr>\n",
       "      <th>2</th>\n",
       "      <td>0, 1, 3, 2, 4</td>\n",
       "      <td>8</td>\n",
       "      <td>5</td>\n",
       "    </tr>\n",
       "    <tr>\n",
       "      <th>3</th>\n",
       "      <td>0, 1, 3, 4, 2</td>\n",
       "      <td>12</td>\n",
       "      <td>5</td>\n",
       "    </tr>\n",
       "    <tr>\n",
       "      <th>4</th>\n",
       "      <td>0, 1, 4, 2, 3</td>\n",
       "      <td>8</td>\n",
       "      <td>5</td>\n",
       "    </tr>\n",
       "    <tr>\n",
       "      <th>...</th>\n",
       "      <td>...</td>\n",
       "      <td>...</td>\n",
       "      <td>...</td>\n",
       "    </tr>\n",
       "    <tr>\n",
       "      <th>115</th>\n",
       "      <td>4, 3, 0, 2, 1</td>\n",
       "      <td>16</td>\n",
       "      <td>4</td>\n",
       "    </tr>\n",
       "    <tr>\n",
       "      <th>116</th>\n",
       "      <td>4, 3, 1, 0, 2</td>\n",
       "      <td>16</td>\n",
       "      <td>2</td>\n",
       "    </tr>\n",
       "    <tr>\n",
       "      <th>117</th>\n",
       "      <td>4, 3, 1, 2, 0</td>\n",
       "      <td>16</td>\n",
       "      <td>3</td>\n",
       "    </tr>\n",
       "    <tr>\n",
       "      <th>118</th>\n",
       "      <td>4, 3, 2, 0, 1</td>\n",
       "      <td>16</td>\n",
       "      <td>2</td>\n",
       "    </tr>\n",
       "    <tr>\n",
       "      <th>119</th>\n",
       "      <td>4, 3, 2, 1, 0</td>\n",
       "      <td>16</td>\n",
       "      <td>3</td>\n",
       "    </tr>\n",
       "  </tbody>\n",
       "</table>\n",
       "<p>120 rows × 3 columns</p>\n",
       "</div>"
      ],
      "text/plain": [
       "              list  bubble  heap\n",
       "0    0, 1, 2, 3, 4       4     4\n",
       "1    0, 1, 2, 4, 3       8     4\n",
       "2    0, 1, 3, 2, 4       8     5\n",
       "3    0, 1, 3, 4, 2      12     5\n",
       "4    0, 1, 4, 2, 3       8     5\n",
       "..             ...     ...   ...\n",
       "115  4, 3, 0, 2, 1      16     4\n",
       "116  4, 3, 1, 0, 2      16     2\n",
       "117  4, 3, 1, 2, 0      16     3\n",
       "118  4, 3, 2, 0, 1      16     2\n",
       "119  4, 3, 2, 1, 0      16     3\n",
       "\n",
       "[120 rows x 3 columns]"
      ]
     },
     "execution_count": 48,
     "metadata": {},
     "output_type": "execute_result"
    }
   ],
   "source": [
    "df"
   ]
  },
  {
   "cell_type": "code",
   "execution_count": 49,
   "id": "d30c1b1c",
   "metadata": {},
   "outputs": [
    {
     "data": {
      "text/html": [
       "<div>\n",
       "<style scoped>\n",
       "    .dataframe tbody tr th:only-of-type {\n",
       "        vertical-align: middle;\n",
       "    }\n",
       "\n",
       "    .dataframe tbody tr th {\n",
       "        vertical-align: top;\n",
       "    }\n",
       "\n",
       "    .dataframe thead th {\n",
       "        text-align: right;\n",
       "    }\n",
       "</style>\n",
       "<table border=\"1\" class=\"dataframe\">\n",
       "  <thead>\n",
       "    <tr style=\"text-align: right;\">\n",
       "      <th></th>\n",
       "      <th>bubble</th>\n",
       "      <th>heap</th>\n",
       "    </tr>\n",
       "  </thead>\n",
       "  <tbody>\n",
       "    <tr>\n",
       "      <th>count</th>\n",
       "      <td>120.000000</td>\n",
       "      <td>120.000000</td>\n",
       "    </tr>\n",
       "    <tr>\n",
       "      <th>mean</th>\n",
       "      <td>13.633333</td>\n",
       "      <td>3.933333</td>\n",
       "    </tr>\n",
       "    <tr>\n",
       "      <th>std</th>\n",
       "      <td>2.956074</td>\n",
       "      <td>1.382564</td>\n",
       "    </tr>\n",
       "    <tr>\n",
       "      <th>min</th>\n",
       "      <td>4.000000</td>\n",
       "      <td>1.000000</td>\n",
       "    </tr>\n",
       "    <tr>\n",
       "      <th>25%</th>\n",
       "      <td>12.000000</td>\n",
       "      <td>3.000000</td>\n",
       "    </tr>\n",
       "    <tr>\n",
       "      <th>50%</th>\n",
       "      <td>16.000000</td>\n",
       "      <td>4.000000</td>\n",
       "    </tr>\n",
       "    <tr>\n",
       "      <th>75%</th>\n",
       "      <td>16.000000</td>\n",
       "      <td>5.000000</td>\n",
       "    </tr>\n",
       "    <tr>\n",
       "      <th>max</th>\n",
       "      <td>16.000000</td>\n",
       "      <td>7.000000</td>\n",
       "    </tr>\n",
       "  </tbody>\n",
       "</table>\n",
       "</div>"
      ],
      "text/plain": [
       "           bubble        heap\n",
       "count  120.000000  120.000000\n",
       "mean    13.633333    3.933333\n",
       "std      2.956074    1.382564\n",
       "min      4.000000    1.000000\n",
       "25%     12.000000    3.000000\n",
       "50%     16.000000    4.000000\n",
       "75%     16.000000    5.000000\n",
       "max     16.000000    7.000000"
      ]
     },
     "execution_count": 49,
     "metadata": {},
     "output_type": "execute_result"
    }
   ],
   "source": [
    "df.describe()"
   ]
  },
  {
   "cell_type": "markdown",
   "id": "92c7f7d8",
   "metadata": {},
   "source": [
    "<br>\n",
    "\n",
    "## Visualisation\n",
    "\n",
    "***\n",
    "\n"
   ]
  },
  {
   "cell_type": "code",
   "execution_count": 50,
   "id": "9867dd8b",
   "metadata": {},
   "outputs": [],
   "source": [
    "# Plots.\n",
    "import matplotlib.pyplot as plt"
   ]
  },
  {
   "cell_type": "code",
   "execution_count": 51,
   "id": "5ca3ce6d",
   "metadata": {},
   "outputs": [],
   "source": [
    "# Change default plot size.\n",
    "plt.rcParams[\"figure.figsize\"] = (20, 8)"
   ]
  },
  {
   "cell_type": "code",
   "execution_count": 52,
   "id": "e185b998",
   "metadata": {},
   "outputs": [],
   "source": [
    "# Graphs.\n",
    "import networkx as nx"
   ]
  },
  {
   "cell_type": "code",
   "execution_count": 53,
   "id": "adda2e12",
   "metadata": {},
   "outputs": [],
   "source": [
    "# Math functions.\n",
    "import math"
   ]
  },
  {
   "cell_type": "code",
   "execution_count": 54,
   "id": "7959e10a",
   "metadata": {},
   "outputs": [],
   "source": [
    "# Numerical and random functions.\n",
    "import numpy as np"
   ]
  },
  {
   "cell_type": "code",
   "execution_count": 55,
   "id": "619b0de3",
   "metadata": {},
   "outputs": [],
   "source": [
    "# Set up the random number generator - setting seed means we get same random sequence each time.\n",
    "rng = np.random.default_rng(seed=0)"
   ]
  },
  {
   "cell_type": "code",
   "execution_count": 56,
   "id": "d30d2218",
   "metadata": {},
   "outputs": [
    {
     "data": {
      "text/plain": [
       "[4, 6, 2, 7, 3, 5, 9, 0, 8, 1]"
      ]
     },
     "execution_count": 56,
     "metadata": {},
     "output_type": "execute_result"
    }
   ],
   "source": [
    "# Shuffle a list of integers.\n",
    "L = list(rng.permutation(10))\n",
    "L"
   ]
  },
  {
   "cell_type": "code",
   "execution_count": 57,
   "id": "bd96625f",
   "metadata": {},
   "outputs": [],
   "source": [
    "def drawtree(L, highlight=None):\n",
    "  # Create a fully balanced binary tree.\n",
    "  T = nx.balanced_tree(2, math.floor(math.log(len(L), 2)))\n",
    "  # Remove nodes beyond the length of L.\n",
    "  T.remove_nodes_from(list(T.nodes)[len(L):])\n",
    "  # Relabel the nodes with elements of L.\n",
    "  T = nx.relabel_nodes(T, dict(zip(T.nodes, L)), copy=True)\n",
    "  # Get nice positions for the nodes in the picture.\n",
    "  pos = nx.drawing.nx_pydot.graphviz_layout(T, prog=\"dot\")\n",
    "  # Draw the graph.\n",
    "  nx.draw(T, pos, with_labels=True, node_color='lightgrey', node_size=1600, font_size=32)\n",
    "  # Highlight nodes if needed.\n",
    "  if highlight:\n",
    "    nx.draw_networkx(T.subgraph([i for i in T.nodes if i in highlight]), pos=pos, node_color='pink', node_size=1600, font_size=32)"
   ]
  },
  {
   "cell_type": "code",
   "execution_count": 58,
   "id": "d6f68caf",
   "metadata": {},
   "outputs": [
    {
     "data": {
      "image/png": "[encoded data removed]",
      "text/plain": [
       "<Figure size 1440x576 with 1 Axes>"
      ]
     },
     "metadata": {},
     "output_type": "display_data"
    }
   ],
   "source": [
    "# Heap sort achieved.\n",
    "drawtree(L)"
   ]
  },
  {
   "cell_type": "code",
   "execution_count": 59,
   "id": "b72d2c69",
   "metadata": {},
   "outputs": [],
   "source": [
    "# Worked through the tree, sifting down and swapping when child > parent.\n",
    "# Lost the image.\n",
    "L[1], L[8] = L[8], L[1]"
   ]
  },
  {
   "cell_type": "code",
   "execution_count": 60,
   "id": "1b780f5e",
   "metadata": {},
   "outputs": [
    {
     "data": {
      "image/png": "[encoded data removed]",
      "text/plain": [
       "<Figure size 1440x576 with 1 Axes>"
      ]
     },
     "metadata": {},
     "output_type": "display_data"
    }
   ],
   "source": [
    "drawtree(L)"
   ]
  },
  {
   "cell_type": "code",
   "execution_count": 61,
   "id": "2d3b4490",
   "metadata": {},
   "outputs": [],
   "source": [
    "S = []"
   ]
  },
  {
   "cell_type": "code",
   "execution_count": 62,
   "id": "b0e17df1",
   "metadata": {},
   "outputs": [],
   "source": [
    "S = [L[0]] + S"
   ]
  },
  {
   "cell_type": "code",
   "execution_count": 63,
   "id": "129dbe38",
   "metadata": {},
   "outputs": [
    {
     "data": {
      "text/plain": [
       "[4]"
      ]
     },
     "execution_count": 63,
     "metadata": {},
     "output_type": "execute_result"
    }
   ],
   "source": [
    "S"
   ]
  },
  {
   "cell_type": "code",
   "execution_count": 64,
   "id": "60efde2a",
   "metadata": {},
   "outputs": [],
   "source": [
    "# -1 is the last element of the list.\n",
    "L[0], L[-1] = L[-1], L[0]"
   ]
  },
  {
   "cell_type": "code",
   "execution_count": 65,
   "id": "104a664e",
   "metadata": {},
   "outputs": [
    {
     "data": {
      "text/plain": [
       "[1, 8, 2, 7, 3, 5, 9, 0, 6, 4]"
      ]
     },
     "execution_count": 65,
     "metadata": {},
     "output_type": "execute_result"
    }
   ],
   "source": [
    "L"
   ]
  },
  {
   "cell_type": "code",
   "execution_count": null,
   "id": "e55637f7",
   "metadata": {},
   "outputs": [],
   "source": [
    "L = L[:-1]\n",
    "L"
   ]
  },
  {
   "cell_type": "code",
   "execution_count": null,
   "id": "2935f6a4",
   "metadata": {},
   "outputs": [],
   "source": [
    "L, S"
   ]
  },
  {
   "cell_type": "code",
   "execution_count": null,
   "id": "d3fb99f0",
   "metadata": {},
   "outputs": [],
   "source": [
    "L[1], L[3] = L[3], L[1]"
   ]
  },
  {
   "cell_type": "code",
   "execution_count": null,
   "id": "7df463e4",
   "metadata": {},
   "outputs": [],
   "source": [
    "# [0, 1] just highlights the selected nodes.\n",
    "drawtree(L, [0, 1])\n",
    "L"
   ]
  },
  {
   "cell_type": "code",
   "execution_count": null,
   "id": "7a00d4ba",
   "metadata": {},
   "outputs": [],
   "source": []
  },
  {
   "cell_type": "code",
   "execution_count": null,
   "id": "189657df",
   "metadata": {},
   "outputs": [],
   "source": []
  },
  {
   "cell_type": "code",
   "execution_count": null,
   "id": "8eef6969",
   "metadata": {},
   "outputs": [],
   "source": []
  },
  {
   "cell_type": "code",
   "execution_count": null,
   "id": "d676fe62",
   "metadata": {},
   "outputs": [],
   "source": []
  },
  {
   "cell_type": "code",
   "execution_count": null,
   "id": "fc738c87",
   "metadata": {},
   "outputs": [],
   "source": []
  },
  {
   "cell_type": "code",
   "execution_count": null,
   "id": "e525fc61",
   "metadata": {},
   "outputs": [],
   "source": []
  },
  {
   "cell_type": "code",
   "execution_count": null,
   "id": "5da4ca89",
   "metadata": {},
   "outputs": [],
   "source": []
  }
 ],
 "metadata": {
  "kernelspec": {
   "display_name": "Python 3 (ipykernel)",
   "language": "python",
   "name": "python3"
  },
  "language_info": {
   "codemirror_mode": {
    "name": "ipython",
    "version": 3
   },
   "file_extension": ".py",
   "mimetype": "text/x-python",
   "name": "python",
   "nbconvert_exporter": "python",
   "pygments_lexer": "ipython3",
   "version": "3.9.7"
  }
 },
 "nbformat": 4,
 "nbformat_minor": 5
}
